{
 "cells": [
  {
   "cell_type": "code",
   "execution_count": 1,
   "metadata": {},
   "outputs": [],
   "source": [
    "import warnings\n",
    "warnings.filterwarnings('ignore')\n",
    "import pandas as pd\n",
    "import itertools\n",
    "from tqdm import tqdm\n",
    "\n",
    "import plotly.graph_objects as go"
   ]
  },
  {
   "cell_type": "code",
   "execution_count": 2,
   "metadata": {},
   "outputs": [
    {
     "data": {
      "text/html": [
       "<div>\n",
       "<style scoped>\n",
       "    .dataframe tbody tr th:only-of-type {\n",
       "        vertical-align: middle;\n",
       "    }\n",
       "\n",
       "    .dataframe tbody tr th {\n",
       "        vertical-align: top;\n",
       "    }\n",
       "\n",
       "    .dataframe thead th {\n",
       "        text-align: right;\n",
       "    }\n",
       "</style>\n",
       "<table border=\"1\" class=\"dataframe\">\n",
       "  <thead>\n",
       "    <tr style=\"text-align: right;\">\n",
       "      <th></th>\n",
       "      <th>Concurso</th>\n",
       "      <th>Data Sorteio</th>\n",
       "      <th>Valor Rateio 15 Números</th>\n",
       "      <th>Valor Rateio 14 Números</th>\n",
       "      <th>Valor Rateio 13 Números</th>\n",
       "      <th>Valor Rateio 12 Números</th>\n",
       "      <th>Valor Rateio 11 Números</th>\n",
       "      <th>sorteados_seq</th>\n",
       "    </tr>\n",
       "  </thead>\n",
       "  <tbody>\n",
       "    <tr>\n",
       "      <th>0</th>\n",
       "      <td>1</td>\n",
       "      <td>2003-09-29</td>\n",
       "      <td>49765.82</td>\n",
       "      <td>689.84</td>\n",
       "      <td>10.0</td>\n",
       "      <td>4</td>\n",
       "      <td>2.0</td>\n",
       "      <td>[2, 3, 5, 6, 9, 10, 11, 13, 14, 16, 18, 20, 23...</td>\n",
       "    </tr>\n",
       "    <tr>\n",
       "      <th>1</th>\n",
       "      <td>2</td>\n",
       "      <td>2003-10-06</td>\n",
       "      <td>596323.70</td>\n",
       "      <td>1388.95</td>\n",
       "      <td>10.0</td>\n",
       "      <td>4</td>\n",
       "      <td>2.0</td>\n",
       "      <td>[1, 4, 5, 6, 7, 9, 11, 12, 13, 15, 16, 19, 20,...</td>\n",
       "    </tr>\n",
       "    <tr>\n",
       "      <th>2</th>\n",
       "      <td>3</td>\n",
       "      <td>2003-10-13</td>\n",
       "      <td>400623.70</td>\n",
       "      <td>2173.36</td>\n",
       "      <td>10.0</td>\n",
       "      <td>4</td>\n",
       "      <td>2.0</td>\n",
       "      <td>[1, 4, 6, 7, 8, 9, 10, 11, 12, 14, 16, 17, 20,...</td>\n",
       "    </tr>\n",
       "    <tr>\n",
       "      <th>3</th>\n",
       "      <td>4</td>\n",
       "      <td>2003-10-20</td>\n",
       "      <td>902226.02</td>\n",
       "      <td>1498.72</td>\n",
       "      <td>10.0</td>\n",
       "      <td>4</td>\n",
       "      <td>2.0</td>\n",
       "      <td>[1, 2, 4, 5, 8, 10, 12, 13, 16, 17, 18, 19, 23...</td>\n",
       "    </tr>\n",
       "    <tr>\n",
       "      <th>4</th>\n",
       "      <td>5</td>\n",
       "      <td>2003-10-27</td>\n",
       "      <td>380017.55</td>\n",
       "      <td>687.49</td>\n",
       "      <td>10.0</td>\n",
       "      <td>4</td>\n",
       "      <td>2.0</td>\n",
       "      <td>[1, 2, 4, 8, 9, 11, 12, 13, 15, 16, 19, 20, 23...</td>\n",
       "    </tr>\n",
       "  </tbody>\n",
       "</table>\n",
       "</div>"
      ],
      "text/plain": [
       "   Concurso Data Sorteio  Valor Rateio 15 Números  Valor Rateio 14 Números   \n",
       "0         1   2003-09-29                 49765.82                   689.84  \\\n",
       "1         2   2003-10-06                596323.70                  1388.95   \n",
       "2         3   2003-10-13                400623.70                  2173.36   \n",
       "3         4   2003-10-20                902226.02                  1498.72   \n",
       "4         5   2003-10-27                380017.55                   687.49   \n",
       "\n",
       "   Valor Rateio 13 Números  Valor Rateio 12 Números  Valor Rateio 11 Números   \n",
       "0                     10.0                        4                      2.0  \\\n",
       "1                     10.0                        4                      2.0   \n",
       "2                     10.0                        4                      2.0   \n",
       "3                     10.0                        4                      2.0   \n",
       "4                     10.0                        4                      2.0   \n",
       "\n",
       "                                       sorteados_seq  \n",
       "0  [2, 3, 5, 6, 9, 10, 11, 13, 14, 16, 18, 20, 23...  \n",
       "1  [1, 4, 5, 6, 7, 9, 11, 12, 13, 15, 16, 19, 20,...  \n",
       "2  [1, 4, 6, 7, 8, 9, 10, 11, 12, 14, 16, 17, 20,...  \n",
       "3  [1, 2, 4, 5, 8, 10, 12, 13, 16, 17, 18, 19, 23...  \n",
       "4  [1, 2, 4, 8, 9, 11, 12, 13, 15, 16, 19, 20, 23...  "
      ]
     },
     "execution_count": 2,
     "metadata": {},
     "output_type": "execute_result"
    }
   ],
   "source": [
    "df = pd.read_excel(\"../data/Sorteios_Completo.xlsx\")\n",
    "df['sorteados_seq'] = df[['Bola 01','Bola 02','Bola 03','Bola 04','Bola 05','Bola 06','Bola 07','Bola 08','Bola 09','Bola 10','Bola 11','Bola 12','Bola 13','Bola 14','Bola 15']].values.tolist()\n",
    "\n",
    "df.drop(['Bola 01','Bola 02','Bola 03','Bola 04','Bola 05','Bola 06','Bola 07','Bola 08','Bola 09','Bola 10','Bola 11','Bola 12','Bola 13','Bola 14','Bola 15','Id','Sorteado 01',\n",
    " 'Sorteado 02',\n",
    " 'Sorteado 03',\n",
    " 'Sorteado 04',\n",
    " 'Sorteado 05',\n",
    " 'Sorteado 06',\n",
    " 'Sorteado 07',\n",
    " 'Sorteado 08',\n",
    " 'Sorteado 09',\n",
    " 'Sorteado 10',\n",
    " 'Sorteado 11',\n",
    " 'Sorteado 12',\n",
    " 'Sorteado 13',\n",
    " 'Sorteado 14',\n",
    " 'Sorteado 15',\n",
    " 'Arrecadação_Total',\n",
    " 'Ganhadores 15 Números',\n",
    " 'Ganhadores 14 Números',\n",
    " 'Ganhadores 13 Números',\n",
    " 'Ganhadores 12 Números',\n",
    " 'Ganhadores 11 Números',\n",
    "#  'Valor Rateio 15 Números',\n",
    "#  'Valor Rateio 14 Números',\n",
    "#  'Valor Rateio 13 Números',\n",
    "#  'Valor Rateio 12 Números',\n",
    "#  'Valor Rateio 11 Números',\n",
    " 'Acumulado 15 Números',\n",
    " 'Estimativa Prêmio',\n",
    " 'Valor Acumulado Especial',\n",
    " 'Local 15 Números'], axis=1, inplace=True)\n",
    "\n",
    "\n",
    "df.head()"
   ]
  },
  {
   "cell_type": "code",
   "execution_count": 3,
   "metadata": {},
   "outputs": [
    {
     "data": {
      "text/plain": [
       "0       [2, 3, 5, 6, 9, 10, 11, 13, 14, 16, 18, 20, 23...\n",
       "1       [1, 4, 5, 6, 7, 9, 11, 12, 13, 15, 16, 19, 20,...\n",
       "2       [1, 4, 6, 7, 8, 9, 10, 11, 12, 14, 16, 17, 20,...\n",
       "3       [1, 2, 4, 5, 8, 10, 12, 13, 16, 17, 18, 19, 23...\n",
       "4       [1, 2, 4, 8, 9, 11, 12, 13, 15, 16, 19, 20, 23...\n",
       "                              ...                        \n",
       "2775    [1, 2, 4, 5, 8, 12, 13, 14, 15, 17, 18, 19, 20...\n",
       "2776    [3, 6, 7, 8, 9, 11, 12, 13, 14, 15, 17, 20, 21...\n",
       "2777    [1, 4, 5, 6, 9, 10, 11, 12, 13, 15, 18, 19, 20...\n",
       "2778    [1, 2, 6, 7, 8, 9, 10, 11, 12, 15, 18, 20, 21,...\n",
       "2779    [3, 4, 7, 9, 10, 11, 13, 14, 17, 19, 20, 21, 2...\n",
       "Name: sorteados_seq, Length: 2780, dtype: object"
      ]
     },
     "execution_count": 3,
     "metadata": {},
     "output_type": "execute_result"
    }
   ],
   "source": [
    "sorteios = df.sorteados_seq\n",
    "sorteios"
   ]
  },
  {
   "cell_type": "code",
   "execution_count": 10,
   "metadata": {},
   "outputs": [
    {
     "name": "stdout",
     "output_type": "stream",
     "text": [
      "Combinação  450/1365 - Sorteio  110/2780\r"
     ]
    },
    {
     "ename": "KeyboardInterrupt",
     "evalue": "",
     "output_type": "error",
     "traceback": [
      "\u001b[0;31m---------------------------------------------------------------------------\u001b[0m",
      "\u001b[0;31mKeyError\u001b[0m                                  Traceback (most recent call last)",
      "File \u001b[0;32m~/.virtualenvs/i2a2_proj03/lib/python3.10/site-packages/pandas/core/indexes/base.py:3652\u001b[0m, in \u001b[0;36mIndex.get_loc\u001b[0;34m(self, key)\u001b[0m\n\u001b[1;32m   3651\u001b[0m \u001b[39mtry\u001b[39;00m:\n\u001b[0;32m-> 3652\u001b[0m     \u001b[39mreturn\u001b[39;00m \u001b[39mself\u001b[39;49m\u001b[39m.\u001b[39;49m_engine\u001b[39m.\u001b[39;49mget_loc(casted_key)\n\u001b[1;32m   3653\u001b[0m \u001b[39mexcept\u001b[39;00m \u001b[39mKeyError\u001b[39;00m \u001b[39mas\u001b[39;00m err:\n",
      "File \u001b[0;32m~/.virtualenvs/i2a2_proj03/lib/python3.10/site-packages/pandas/_libs/index.pyx:147\u001b[0m, in \u001b[0;36mpandas._libs.index.IndexEngine.get_loc\u001b[0;34m()\u001b[0m\n",
      "File \u001b[0;32m~/.virtualenvs/i2a2_proj03/lib/python3.10/site-packages/pandas/_libs/index.pyx:176\u001b[0m, in \u001b[0;36mpandas._libs.index.IndexEngine.get_loc\u001b[0;34m()\u001b[0m\n",
      "File \u001b[0;32mpandas/_libs/hashtable_class_helper.pxi:2606\u001b[0m, in \u001b[0;36mpandas._libs.hashtable.Int64HashTable.get_item\u001b[0;34m()\u001b[0m\n",
      "File \u001b[0;32mpandas/_libs/hashtable_class_helper.pxi:2630\u001b[0m, in \u001b[0;36mpandas._libs.hashtable.Int64HashTable.get_item\u001b[0;34m()\u001b[0m\n",
      "\u001b[0;31mKeyError\u001b[0m: 147717",
      "\nDuring handling of the above exception, another exception occurred:\n",
      "\u001b[0;31mKeyboardInterrupt\u001b[0m                         Traceback (most recent call last)",
      "Cell \u001b[0;32mIn[10], line 9\u001b[0m\n\u001b[1;32m      7\u001b[0m \u001b[39mprint\u001b[39m(\u001b[39mf\u001b[39m\u001b[39m'\u001b[39m\u001b[39mCombinação \u001b[39m\u001b[39m{\u001b[39;00midx\u001b[39m:\u001b[39;00m\u001b[39m4d\u001b[39m\u001b[39m}\u001b[39;00m\u001b[39m/1365 - Sorteio \u001b[39m\u001b[39m{\u001b[39;00midxs\u001b[39m:\u001b[39;00m\u001b[39m4d\u001b[39m\u001b[39m}\u001b[39;00m\u001b[39m/2780\u001b[39m\u001b[39m'\u001b[39m, end\u001b[39m=\u001b[39m\u001b[39m'\u001b[39m\u001b[39m\\r\u001b[39;00m\u001b[39m'\u001b[39m)\n\u001b[1;32m      8\u001b[0m \u001b[39mif\u001b[39;00m combinacoes11sorteadas[combinacoes11sorteadas[\u001b[39m'\u001b[39m\u001b[39mcombinacao\u001b[39m\u001b[39m'\u001b[39m]\u001b[39m.\u001b[39misin([subset])]\u001b[39m.\u001b[39mempty:\n\u001b[0;32m----> 9\u001b[0m     combinacoes11sorteadas\u001b[39m.\u001b[39;49mloc[\u001b[39mlen\u001b[39;49m(combinacoes11sorteadas)] \u001b[39m=\u001b[39m [subset, \u001b[39m1\u001b[39m]\n\u001b[1;32m     10\u001b[0m \u001b[39melse\u001b[39;00m:\n\u001b[1;32m     11\u001b[0m     combinacoes11sorteadas\u001b[39m.\u001b[39mloc[combinacoes11sorteadas[combinacoes11sorteadas[\u001b[39m'\u001b[39m\u001b[39mcombinacao\u001b[39m\u001b[39m'\u001b[39m] \u001b[39m==\u001b[39m subset]\u001b[39m.\u001b[39mindex[\u001b[39m0\u001b[39m],\u001b[39m'\u001b[39m\u001b[39mquantidade\u001b[39m\u001b[39m'\u001b[39m] \u001b[39m+\u001b[39m\u001b[39m=\u001b[39m \u001b[39m1\u001b[39m\n",
      "File \u001b[0;32m~/.virtualenvs/i2a2_proj03/lib/python3.10/site-packages/pandas/core/indexing.py:845\u001b[0m, in \u001b[0;36m_LocationIndexer.__setitem__\u001b[0;34m(self, key, value)\u001b[0m\n\u001b[1;32m    843\u001b[0m \u001b[39melse\u001b[39;00m:\n\u001b[1;32m    844\u001b[0m     key \u001b[39m=\u001b[39m com\u001b[39m.\u001b[39mapply_if_callable(key, \u001b[39mself\u001b[39m\u001b[39m.\u001b[39mobj)\n\u001b[0;32m--> 845\u001b[0m indexer \u001b[39m=\u001b[39m \u001b[39mself\u001b[39;49m\u001b[39m.\u001b[39;49m_get_setitem_indexer(key)\n\u001b[1;32m    846\u001b[0m \u001b[39mself\u001b[39m\u001b[39m.\u001b[39m_has_valid_setitem_indexer(key)\n\u001b[1;32m    848\u001b[0m iloc \u001b[39m=\u001b[39m \u001b[39mself\u001b[39m \u001b[39mif\u001b[39;00m \u001b[39mself\u001b[39m\u001b[39m.\u001b[39mname \u001b[39m==\u001b[39m \u001b[39m\"\u001b[39m\u001b[39miloc\u001b[39m\u001b[39m\"\u001b[39m \u001b[39melse\u001b[39;00m \u001b[39mself\u001b[39m\u001b[39m.\u001b[39mobj\u001b[39m.\u001b[39miloc\n",
      "File \u001b[0;32m~/.virtualenvs/i2a2_proj03/lib/python3.10/site-packages/pandas/core/indexing.py:716\u001b[0m, in \u001b[0;36m_LocationIndexer._get_setitem_indexer\u001b[0;34m(self, key)\u001b[0m\n\u001b[1;32m    712\u001b[0m \u001b[39mif\u001b[39;00m \u001b[39misinstance\u001b[39m(key, \u001b[39mrange\u001b[39m):\n\u001b[1;32m    713\u001b[0m     \u001b[39m# GH#45479 test_loc_setitem_range_key\u001b[39;00m\n\u001b[1;32m    714\u001b[0m     key \u001b[39m=\u001b[39m \u001b[39mlist\u001b[39m(key)\n\u001b[0;32m--> 716\u001b[0m \u001b[39mreturn\u001b[39;00m \u001b[39mself\u001b[39;49m\u001b[39m.\u001b[39;49m_convert_to_indexer(key, axis\u001b[39m=\u001b[39;49m\u001b[39m0\u001b[39;49m)\n",
      "File \u001b[0;32m~/.virtualenvs/i2a2_proj03/lib/python3.10/site-packages/pandas/core/indexing.py:1397\u001b[0m, in \u001b[0;36m_LocIndexer._convert_to_indexer\u001b[0;34m(self, key, axis)\u001b[0m\n\u001b[1;32m   1392\u001b[0m \u001b[39mif\u001b[39;00m is_scalar(key) \u001b[39mor\u001b[39;00m (\u001b[39misinstance\u001b[39m(labels, MultiIndex) \u001b[39mand\u001b[39;00m is_hashable(key)):\n\u001b[1;32m   1393\u001b[0m     \u001b[39m# Otherwise get_loc will raise InvalidIndexError\u001b[39;00m\n\u001b[1;32m   1394\u001b[0m \n\u001b[1;32m   1395\u001b[0m     \u001b[39m# if we are a label return me\u001b[39;00m\n\u001b[1;32m   1396\u001b[0m     \u001b[39mtry\u001b[39;00m:\n\u001b[0;32m-> 1397\u001b[0m         \u001b[39mreturn\u001b[39;00m labels\u001b[39m.\u001b[39;49mget_loc(key)\n\u001b[1;32m   1398\u001b[0m     \u001b[39mexcept\u001b[39;00m \u001b[39mLookupError\u001b[39;00m:\n\u001b[1;32m   1399\u001b[0m         \u001b[39mif\u001b[39;00m \u001b[39misinstance\u001b[39m(key, \u001b[39mtuple\u001b[39m) \u001b[39mand\u001b[39;00m \u001b[39misinstance\u001b[39m(labels, MultiIndex):\n",
      "File \u001b[0;32m~/.virtualenvs/i2a2_proj03/lib/python3.10/site-packages/pandas/core/indexes/base.py:3652\u001b[0m, in \u001b[0;36mIndex.get_loc\u001b[0;34m(self, key)\u001b[0m\n\u001b[1;32m   3650\u001b[0m casted_key \u001b[39m=\u001b[39m \u001b[39mself\u001b[39m\u001b[39m.\u001b[39m_maybe_cast_indexer(key)\n\u001b[1;32m   3651\u001b[0m \u001b[39mtry\u001b[39;00m:\n\u001b[0;32m-> 3652\u001b[0m     \u001b[39mreturn\u001b[39;00m \u001b[39mself\u001b[39;49m\u001b[39m.\u001b[39;49m_engine\u001b[39m.\u001b[39;49mget_loc(casted_key)\n\u001b[1;32m   3653\u001b[0m \u001b[39mexcept\u001b[39;00m \u001b[39mKeyError\u001b[39;00m \u001b[39mas\u001b[39;00m err:\n\u001b[1;32m   3654\u001b[0m     \u001b[39mraise\u001b[39;00m \u001b[39mKeyError\u001b[39;00m(key) \u001b[39mfrom\u001b[39;00m \u001b[39merr\u001b[39;00m\n",
      "\u001b[0;31mKeyboardInterrupt\u001b[0m: "
     ]
    }
   ],
   "source": [
    "combinacoes11sorteadas = pd.DataFrame(columns = ['combinacao','quantidade'])\n",
    "for idxs, sorteio in enumerate(sorteios):\n",
    "    b=[]\n",
    "    for a in itertools.combinations(sorteio, 11):\n",
    "        b.append(a)\n",
    "    for idx, subset in enumerate(b):\n",
    "        print(f'Combinação {idx:4d}/1365 - Sorteio {idxs:4d}/2780', end='\\r')\n",
    "        if combinacoes11sorteadas[combinacoes11sorteadas['combinacao'].isin([subset])].empty:\n",
    "            combinacoes11sorteadas.loc[len(combinacoes11sorteadas)] = [subset, 1]\n",
    "        else:\n",
    "            combinacoes11sorteadas.loc[combinacoes11sorteadas[combinacoes11sorteadas['combinacao'] == subset].index[0],'quantidade'] += 1\n",
    "        "
   ]
  },
  {
   "cell_type": "code",
   "execution_count": null,
   "metadata": {},
   "outputs": [],
   "source": [
    "import string\n",
    "import random\n",
    "combinacoes11sorteadas = pd.DataFrame(columns = ['combinacao','quantidade'])\n",
    "for i in range(10):\n",
    "    combinacoes11sorteadas.loc[len(combinacoes11sorteadas)] = [random.choice(string.ascii_lowercase), i+1]\n",
    "combinacoes11sorteadas"
   ]
  },
  {
   "cell_type": "code",
   "execution_count": null,
   "metadata": {},
   "outputs": [],
   "source": [
    "combinacoes11sorteadas[combinacoes11sorteadas['combinacao'].isin(['u'])].empty"
   ]
  },
  {
   "cell_type": "code",
   "execution_count": null,
   "metadata": {},
   "outputs": [],
   "source": [
    "combinacoes11sorteadas[combinacoes11sorteadas['combinacao'] == 'k'].index[0]"
   ]
  },
  {
   "cell_type": "code",
   "execution_count": null,
   "metadata": {},
   "outputs": [],
   "source": [
    "combinacoes11sorteadas.loc[combinacoes11sorteadas[combinacoes11sorteadas['combinacao'] == 'k'].index[0],'quantidade'] += 1"
   ]
  },
  {
   "cell_type": "code",
   "execution_count": 8,
   "metadata": {},
   "outputs": [
    {
     "data": {
      "text/plain": [
       "1365"
      ]
     },
     "execution_count": 8,
     "metadata": {},
     "output_type": "execute_result"
    }
   ],
   "source": [
    "b = []\n",
    "for a in itertools.combinations(range(1,16), 11):\n",
    "    b.append(a)\n",
    "\n",
    "len(b)"
   ]
  }
 ],
 "metadata": {
  "kernelspec": {
   "display_name": "i2a2_proj03",
   "language": "python",
   "name": "python3"
  },
  "language_info": {
   "codemirror_mode": {
    "name": "ipython",
    "version": 3
   },
   "file_extension": ".py",
   "mimetype": "text/x-python",
   "name": "python",
   "nbconvert_exporter": "python",
   "pygments_lexer": "ipython3",
   "version": "3.10.6"
  },
  "orig_nbformat": 4
 },
 "nbformat": 4,
 "nbformat_minor": 2
}
